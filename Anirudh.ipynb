{
  "nbformat": 4,
  "nbformat_minor": 0,
  "metadata": {
    "colab": {
      "name": "Anirudh.ipynb",
      "provenance": [],
      "collapsed_sections": []
    },
    "kernelspec": {
      "name": "python3",
      "display_name": "Python 3"
    },
    "language_info": {
      "name": "python"
    }
  },
  "cells": [
    {
      "cell_type": "code",
      "metadata": {
        "id": "RtE8FOmW2_Mm"
      },
      "source": [
        "import pandas as pd\n",
        "import numpy as np\n",
        "import matplotlib.pyplot as plt\n",
        "import seaborn as sns"
      ],
      "execution_count": null,
      "outputs": []
    },
    {
      "cell_type": "code",
      "metadata": {
        "id": "N97O-qje_Od_",
        "colab": {
          "resources": {
            "http://localhost:8080/nbextensions/google.colab/files.js": {
              "data": "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",
              "ok": true,
              "headers": [
                [
                  "content-type",
                  "application/javascript"
                ]
              ],
              "status": 200,
              "status_text": ""
            }
          },
          "base_uri": "https://localhost:8080/",
          "height": 73
        },
        "outputId": "1cb08b84-94a0-48bd-bd26-b715333878be"
      },
      "source": [
        "from google.colab import files\n",
        "uploaded = files.upload()"
      ],
      "execution_count": null,
      "outputs": [
        {
          "output_type": "display_data",
          "data": {
            "text/html": [
              "\n",
              "     <input type=\"file\" id=\"files-a0c245bf-40a5-41fb-84b2-acc4c1a07f8e\" name=\"files[]\" multiple disabled\n",
              "        style=\"border:none\" />\n",
              "     <output id=\"result-a0c245bf-40a5-41fb-84b2-acc4c1a07f8e\">\n",
              "      Upload widget is only available when the cell has been executed in the\n",
              "      current browser session. Please rerun this cell to enable.\n",
              "      </output>\n",
              "      <script src=\"/nbextensions/google.colab/files.js\"></script> "
            ],
            "text/plain": [
              "<IPython.core.display.HTML object>"
            ]
          },
          "metadata": {}
        },
        {
          "output_type": "stream",
          "name": "stdout",
          "text": [
            "Saving 6 years RIL data Cleaned.xlsx to 6 years RIL data Cleaned.xlsx\n"
          ]
        }
      ]
    },
    {
      "cell_type": "code",
      "metadata": {
        "id": "PgSrm-4d3Xu2"
      },
      "source": [
        "df=pd.read_excel('6 years RIL data Cleaned.xlsx')"
      ],
      "execution_count": null,
      "outputs": []
    },
    {
      "cell_type": "code",
      "metadata": {
        "colab": {
          "base_uri": "https://localhost:8080/",
          "height": 206
        },
        "id": "Shl3ubZK_ObW",
        "outputId": "37c8bc70-cbce-4bf9-b4fc-e160c145a39f"
      },
      "source": [
        "df.head()"
      ],
      "execution_count": null,
      "outputs": [
        {
          "output_type": "execute_result",
          "data": {
            "text/html": [
              "<div>\n",
              "<style scoped>\n",
              "    .dataframe tbody tr th:only-of-type {\n",
              "        vertical-align: middle;\n",
              "    }\n",
              "\n",
              "    .dataframe tbody tr th {\n",
              "        vertical-align: top;\n",
              "    }\n",
              "\n",
              "    .dataframe thead th {\n",
              "        text-align: right;\n",
              "    }\n",
              "</style>\n",
              "<table border=\"1\" class=\"dataframe\">\n",
              "  <thead>\n",
              "    <tr style=\"text-align: right;\">\n",
              "      <th></th>\n",
              "      <th>Unnamed: 0</th>\n",
              "      <th>index</th>\n",
              "      <th>Date</th>\n",
              "      <th>Open Price</th>\n",
              "      <th>High Price</th>\n",
              "      <th>Low Price</th>\n",
              "      <th>Close Price</th>\n",
              "    </tr>\n",
              "  </thead>\n",
              "  <tbody>\n",
              "    <tr>\n",
              "      <th>0</th>\n",
              "      <td>0</td>\n",
              "      <td>1482</td>\n",
              "      <td>2015-09-23</td>\n",
              "      <td>840.00</td>\n",
              "      <td>856.75</td>\n",
              "      <td>840.00</td>\n",
              "      <td>851.40</td>\n",
              "    </tr>\n",
              "    <tr>\n",
              "      <th>1</th>\n",
              "      <td>1</td>\n",
              "      <td>1481</td>\n",
              "      <td>2015-09-24</td>\n",
              "      <td>848.00</td>\n",
              "      <td>848.00</td>\n",
              "      <td>835.05</td>\n",
              "      <td>837.90</td>\n",
              "    </tr>\n",
              "    <tr>\n",
              "      <th>2</th>\n",
              "      <td>2</td>\n",
              "      <td>1480</td>\n",
              "      <td>2015-09-28</td>\n",
              "      <td>837.90</td>\n",
              "      <td>840.90</td>\n",
              "      <td>830.00</td>\n",
              "      <td>834.35</td>\n",
              "    </tr>\n",
              "    <tr>\n",
              "      <th>3</th>\n",
              "      <td>3</td>\n",
              "      <td>1479</td>\n",
              "      <td>2015-09-29</td>\n",
              "      <td>829.00</td>\n",
              "      <td>849.30</td>\n",
              "      <td>826.55</td>\n",
              "      <td>839.15</td>\n",
              "    </tr>\n",
              "    <tr>\n",
              "      <th>4</th>\n",
              "      <td>4</td>\n",
              "      <td>1478</td>\n",
              "      <td>2015-09-30</td>\n",
              "      <td>848.05</td>\n",
              "      <td>863.00</td>\n",
              "      <td>838.60</td>\n",
              "      <td>860.50</td>\n",
              "    </tr>\n",
              "  </tbody>\n",
              "</table>\n",
              "</div>"
            ],
            "text/plain": [
              "   Unnamed: 0  index       Date  Open Price  High Price  Low Price  Close Price\n",
              "0           0   1482 2015-09-23      840.00      856.75     840.00       851.40\n",
              "1           1   1481 2015-09-24      848.00      848.00     835.05       837.90\n",
              "2           2   1480 2015-09-28      837.90      840.90     830.00       834.35\n",
              "3           3   1479 2015-09-29      829.00      849.30     826.55       839.15\n",
              "4           4   1478 2015-09-30      848.05      863.00     838.60       860.50"
            ]
          },
          "metadata": {},
          "execution_count": 6
        }
      ]
    },
    {
      "cell_type": "code",
      "metadata": {
        "colab": {
          "base_uri": "https://localhost:8080/",
          "height": 206
        },
        "id": "Ia-L03K5_vOG",
        "outputId": "a2cef49c-0fd0-46c7-d808-c11a7e432112"
      },
      "source": [
        "df.tail()"
      ],
      "execution_count": null,
      "outputs": [
        {
          "output_type": "execute_result",
          "data": {
            "text/html": [
              "<div>\n",
              "<style scoped>\n",
              "    .dataframe tbody tr th:only-of-type {\n",
              "        vertical-align: middle;\n",
              "    }\n",
              "\n",
              "    .dataframe tbody tr th {\n",
              "        vertical-align: top;\n",
              "    }\n",
              "\n",
              "    .dataframe thead th {\n",
              "        text-align: right;\n",
              "    }\n",
              "</style>\n",
              "<table border=\"1\" class=\"dataframe\">\n",
              "  <thead>\n",
              "    <tr style=\"text-align: right;\">\n",
              "      <th></th>\n",
              "      <th>Unnamed: 0</th>\n",
              "      <th>index</th>\n",
              "      <th>Date</th>\n",
              "      <th>Open Price</th>\n",
              "      <th>High Price</th>\n",
              "      <th>Low Price</th>\n",
              "      <th>Close Price</th>\n",
              "    </tr>\n",
              "  </thead>\n",
              "  <tbody>\n",
              "    <tr>\n",
              "      <th>1478</th>\n",
              "      <td>1478</td>\n",
              "      <td>4</td>\n",
              "      <td>2021-09-16</td>\n",
              "      <td>2379.0</td>\n",
              "      <td>2436.00</td>\n",
              "      <td>2367.00</td>\n",
              "      <td>2428.10</td>\n",
              "    </tr>\n",
              "    <tr>\n",
              "      <th>1479</th>\n",
              "      <td>1479</td>\n",
              "      <td>3</td>\n",
              "      <td>2021-09-17</td>\n",
              "      <td>2445.0</td>\n",
              "      <td>2455.80</td>\n",
              "      <td>2378.80</td>\n",
              "      <td>2390.40</td>\n",
              "    </tr>\n",
              "    <tr>\n",
              "      <th>1480</th>\n",
              "      <td>1480</td>\n",
              "      <td>2</td>\n",
              "      <td>2021-09-20</td>\n",
              "      <td>2375.0</td>\n",
              "      <td>2418.00</td>\n",
              "      <td>2370.00</td>\n",
              "      <td>2393.90</td>\n",
              "    </tr>\n",
              "    <tr>\n",
              "      <th>1481</th>\n",
              "      <td>1481</td>\n",
              "      <td>1</td>\n",
              "      <td>2021-09-21</td>\n",
              "      <td>2411.0</td>\n",
              "      <td>2416.00</td>\n",
              "      <td>2384.65</td>\n",
              "      <td>2404.15</td>\n",
              "    </tr>\n",
              "    <tr>\n",
              "      <th>1482</th>\n",
              "      <td>1482</td>\n",
              "      <td>0</td>\n",
              "      <td>2021-09-22</td>\n",
              "      <td>2409.0</td>\n",
              "      <td>2441.25</td>\n",
              "      <td>2398.15</td>\n",
              "      <td>2430.60</td>\n",
              "    </tr>\n",
              "  </tbody>\n",
              "</table>\n",
              "</div>"
            ],
            "text/plain": [
              "      Unnamed: 0  index       Date  ...  High Price  Low Price  Close Price\n",
              "1478        1478      4 2021-09-16  ...     2436.00    2367.00      2428.10\n",
              "1479        1479      3 2021-09-17  ...     2455.80    2378.80      2390.40\n",
              "1480        1480      2 2021-09-20  ...     2418.00    2370.00      2393.90\n",
              "1481        1481      1 2021-09-21  ...     2416.00    2384.65      2404.15\n",
              "1482        1482      0 2021-09-22  ...     2441.25    2398.15      2430.60\n",
              "\n",
              "[5 rows x 7 columns]"
            ]
          },
          "metadata": {},
          "execution_count": 7
        }
      ]
    },
    {
      "cell_type": "code",
      "metadata": {
        "colab": {
          "base_uri": "https://localhost:8080/"
        },
        "id": "9v8rg7TY_OWg",
        "outputId": "fe938ec8-53d0-4e1d-dd46-6988df2c20d0"
      },
      "source": [
        "df.info()"
      ],
      "execution_count": null,
      "outputs": [
        {
          "output_type": "stream",
          "name": "stdout",
          "text": [
            "<class 'pandas.core.frame.DataFrame'>\n",
            "RangeIndex: 1483 entries, 0 to 1482\n",
            "Data columns (total 7 columns):\n",
            " #   Column       Non-Null Count  Dtype         \n",
            "---  ------       --------------  -----         \n",
            " 0   Unnamed: 0   1483 non-null   int64         \n",
            " 1   index        1483 non-null   int64         \n",
            " 2   Date         1483 non-null   datetime64[ns]\n",
            " 3   Open Price   1483 non-null   float64       \n",
            " 4   High Price   1483 non-null   float64       \n",
            " 5   Low Price    1483 non-null   float64       \n",
            " 6   Close Price  1483 non-null   float64       \n",
            "dtypes: datetime64[ns](1), float64(4), int64(2)\n",
            "memory usage: 81.2 KB\n"
          ]
        }
      ]
    },
    {
      "cell_type": "code",
      "metadata": {
        "id": "XNNDH10aBRbX"
      },
      "source": [
        "df = df[['Date', 'Open Price', 'High Price', 'Low Price', 'Close Price']]"
      ],
      "execution_count": null,
      "outputs": []
    },
    {
      "cell_type": "code",
      "metadata": {
        "colab": {
          "base_uri": "https://localhost:8080/",
          "height": 206
        },
        "id": "PNWLc-npBRXx",
        "outputId": "b3b0bdaf-bbfb-4eba-c86d-c29cc0e8da01"
      },
      "source": [
        "df.head()"
      ],
      "execution_count": null,
      "outputs": [
        {
          "output_type": "execute_result",
          "data": {
            "text/html": [
              "<div>\n",
              "<style scoped>\n",
              "    .dataframe tbody tr th:only-of-type {\n",
              "        vertical-align: middle;\n",
              "    }\n",
              "\n",
              "    .dataframe tbody tr th {\n",
              "        vertical-align: top;\n",
              "    }\n",
              "\n",
              "    .dataframe thead th {\n",
              "        text-align: right;\n",
              "    }\n",
              "</style>\n",
              "<table border=\"1\" class=\"dataframe\">\n",
              "  <thead>\n",
              "    <tr style=\"text-align: right;\">\n",
              "      <th></th>\n",
              "      <th>Date</th>\n",
              "      <th>Open Price</th>\n",
              "      <th>High Price</th>\n",
              "      <th>Low Price</th>\n",
              "      <th>Close Price</th>\n",
              "    </tr>\n",
              "  </thead>\n",
              "  <tbody>\n",
              "    <tr>\n",
              "      <th>0</th>\n",
              "      <td>2015-09-23</td>\n",
              "      <td>840.00</td>\n",
              "      <td>856.75</td>\n",
              "      <td>840.00</td>\n",
              "      <td>851.40</td>\n",
              "    </tr>\n",
              "    <tr>\n",
              "      <th>1</th>\n",
              "      <td>2015-09-24</td>\n",
              "      <td>848.00</td>\n",
              "      <td>848.00</td>\n",
              "      <td>835.05</td>\n",
              "      <td>837.90</td>\n",
              "    </tr>\n",
              "    <tr>\n",
              "      <th>2</th>\n",
              "      <td>2015-09-28</td>\n",
              "      <td>837.90</td>\n",
              "      <td>840.90</td>\n",
              "      <td>830.00</td>\n",
              "      <td>834.35</td>\n",
              "    </tr>\n",
              "    <tr>\n",
              "      <th>3</th>\n",
              "      <td>2015-09-29</td>\n",
              "      <td>829.00</td>\n",
              "      <td>849.30</td>\n",
              "      <td>826.55</td>\n",
              "      <td>839.15</td>\n",
              "    </tr>\n",
              "    <tr>\n",
              "      <th>4</th>\n",
              "      <td>2015-09-30</td>\n",
              "      <td>848.05</td>\n",
              "      <td>863.00</td>\n",
              "      <td>838.60</td>\n",
              "      <td>860.50</td>\n",
              "    </tr>\n",
              "  </tbody>\n",
              "</table>\n",
              "</div>"
            ],
            "text/plain": [
              "        Date  Open Price  High Price  Low Price  Close Price\n",
              "0 2015-09-23      840.00      856.75     840.00       851.40\n",
              "1 2015-09-24      848.00      848.00     835.05       837.90\n",
              "2 2015-09-28      837.90      840.90     830.00       834.35\n",
              "3 2015-09-29      829.00      849.30     826.55       839.15\n",
              "4 2015-09-30      848.05      863.00     838.60       860.50"
            ]
          },
          "metadata": {},
          "execution_count": 10
        }
      ]
    },
    {
      "cell_type": "code",
      "metadata": {
        "id": "GsjCzbG8BRUS"
      },
      "source": [
        "df = df.reset_index()"
      ],
      "execution_count": null,
      "outputs": []
    },
    {
      "cell_type": "code",
      "metadata": {
        "colab": {
          "base_uri": "https://localhost:8080/",
          "height": 206
        },
        "id": "H3cRV4Xq_OUL",
        "outputId": "c2022f42-d0bb-47fe-a5f5-ad22e9847f20"
      },
      "source": [
        "df.head()"
      ],
      "execution_count": null,
      "outputs": [
        {
          "output_type": "execute_result",
          "data": {
            "text/html": [
              "<div>\n",
              "<style scoped>\n",
              "    .dataframe tbody tr th:only-of-type {\n",
              "        vertical-align: middle;\n",
              "    }\n",
              "\n",
              "    .dataframe tbody tr th {\n",
              "        vertical-align: top;\n",
              "    }\n",
              "\n",
              "    .dataframe thead th {\n",
              "        text-align: right;\n",
              "    }\n",
              "</style>\n",
              "<table border=\"1\" class=\"dataframe\">\n",
              "  <thead>\n",
              "    <tr style=\"text-align: right;\">\n",
              "      <th></th>\n",
              "      <th>index</th>\n",
              "      <th>Date</th>\n",
              "      <th>Open Price</th>\n",
              "      <th>High Price</th>\n",
              "      <th>Low Price</th>\n",
              "      <th>Close Price</th>\n",
              "    </tr>\n",
              "  </thead>\n",
              "  <tbody>\n",
              "    <tr>\n",
              "      <th>0</th>\n",
              "      <td>0</td>\n",
              "      <td>2015-09-23</td>\n",
              "      <td>840.00</td>\n",
              "      <td>856.75</td>\n",
              "      <td>840.00</td>\n",
              "      <td>851.40</td>\n",
              "    </tr>\n",
              "    <tr>\n",
              "      <th>1</th>\n",
              "      <td>1</td>\n",
              "      <td>2015-09-24</td>\n",
              "      <td>848.00</td>\n",
              "      <td>848.00</td>\n",
              "      <td>835.05</td>\n",
              "      <td>837.90</td>\n",
              "    </tr>\n",
              "    <tr>\n",
              "      <th>2</th>\n",
              "      <td>2</td>\n",
              "      <td>2015-09-28</td>\n",
              "      <td>837.90</td>\n",
              "      <td>840.90</td>\n",
              "      <td>830.00</td>\n",
              "      <td>834.35</td>\n",
              "    </tr>\n",
              "    <tr>\n",
              "      <th>3</th>\n",
              "      <td>3</td>\n",
              "      <td>2015-09-29</td>\n",
              "      <td>829.00</td>\n",
              "      <td>849.30</td>\n",
              "      <td>826.55</td>\n",
              "      <td>839.15</td>\n",
              "    </tr>\n",
              "    <tr>\n",
              "      <th>4</th>\n",
              "      <td>4</td>\n",
              "      <td>2015-09-30</td>\n",
              "      <td>848.05</td>\n",
              "      <td>863.00</td>\n",
              "      <td>838.60</td>\n",
              "      <td>860.50</td>\n",
              "    </tr>\n",
              "  </tbody>\n",
              "</table>\n",
              "</div>"
            ],
            "text/plain": [
              "   index       Date  Open Price  High Price  Low Price  Close Price\n",
              "0      0 2015-09-23      840.00      856.75     840.00       851.40\n",
              "1      1 2015-09-24      848.00      848.00     835.05       837.90\n",
              "2      2 2015-09-28      837.90      840.90     830.00       834.35\n",
              "3      3 2015-09-29      829.00      849.30     826.55       839.15\n",
              "4      4 2015-09-30      848.05      863.00     838.60       860.50"
            ]
          },
          "metadata": {},
          "execution_count": 12
        }
      ]
    },
    {
      "cell_type": "code",
      "metadata": {
        "colab": {
          "base_uri": "https://localhost:8080/",
          "height": 423
        },
        "id": "Jx0-IhAb_OQ-",
        "outputId": "41f42739-7532-4af9-eca1-5a216f430309"
      },
      "source": [
        "df.drop(['index'], axis = 1)"
      ],
      "execution_count": null,
      "outputs": [
        {
          "output_type": "execute_result",
          "data": {
            "text/html": [
              "<div>\n",
              "<style scoped>\n",
              "    .dataframe tbody tr th:only-of-type {\n",
              "        vertical-align: middle;\n",
              "    }\n",
              "\n",
              "    .dataframe tbody tr th {\n",
              "        vertical-align: top;\n",
              "    }\n",
              "\n",
              "    .dataframe thead th {\n",
              "        text-align: right;\n",
              "    }\n",
              "</style>\n",
              "<table border=\"1\" class=\"dataframe\">\n",
              "  <thead>\n",
              "    <tr style=\"text-align: right;\">\n",
              "      <th></th>\n",
              "      <th>Date</th>\n",
              "      <th>Open Price</th>\n",
              "      <th>High Price</th>\n",
              "      <th>Low Price</th>\n",
              "      <th>Close Price</th>\n",
              "    </tr>\n",
              "  </thead>\n",
              "  <tbody>\n",
              "    <tr>\n",
              "      <th>0</th>\n",
              "      <td>2015-09-23</td>\n",
              "      <td>840.00</td>\n",
              "      <td>856.75</td>\n",
              "      <td>840.00</td>\n",
              "      <td>851.40</td>\n",
              "    </tr>\n",
              "    <tr>\n",
              "      <th>1</th>\n",
              "      <td>2015-09-24</td>\n",
              "      <td>848.00</td>\n",
              "      <td>848.00</td>\n",
              "      <td>835.05</td>\n",
              "      <td>837.90</td>\n",
              "    </tr>\n",
              "    <tr>\n",
              "      <th>2</th>\n",
              "      <td>2015-09-28</td>\n",
              "      <td>837.90</td>\n",
              "      <td>840.90</td>\n",
              "      <td>830.00</td>\n",
              "      <td>834.35</td>\n",
              "    </tr>\n",
              "    <tr>\n",
              "      <th>3</th>\n",
              "      <td>2015-09-29</td>\n",
              "      <td>829.00</td>\n",
              "      <td>849.30</td>\n",
              "      <td>826.55</td>\n",
              "      <td>839.15</td>\n",
              "    </tr>\n",
              "    <tr>\n",
              "      <th>4</th>\n",
              "      <td>2015-09-30</td>\n",
              "      <td>848.05</td>\n",
              "      <td>863.00</td>\n",
              "      <td>838.60</td>\n",
              "      <td>860.50</td>\n",
              "    </tr>\n",
              "    <tr>\n",
              "      <th>...</th>\n",
              "      <td>...</td>\n",
              "      <td>...</td>\n",
              "      <td>...</td>\n",
              "      <td>...</td>\n",
              "      <td>...</td>\n",
              "    </tr>\n",
              "    <tr>\n",
              "      <th>1478</th>\n",
              "      <td>2021-09-16</td>\n",
              "      <td>2379.00</td>\n",
              "      <td>2436.00</td>\n",
              "      <td>2367.00</td>\n",
              "      <td>2428.10</td>\n",
              "    </tr>\n",
              "    <tr>\n",
              "      <th>1479</th>\n",
              "      <td>2021-09-17</td>\n",
              "      <td>2445.00</td>\n",
              "      <td>2455.80</td>\n",
              "      <td>2378.80</td>\n",
              "      <td>2390.40</td>\n",
              "    </tr>\n",
              "    <tr>\n",
              "      <th>1480</th>\n",
              "      <td>2021-09-20</td>\n",
              "      <td>2375.00</td>\n",
              "      <td>2418.00</td>\n",
              "      <td>2370.00</td>\n",
              "      <td>2393.90</td>\n",
              "    </tr>\n",
              "    <tr>\n",
              "      <th>1481</th>\n",
              "      <td>2021-09-21</td>\n",
              "      <td>2411.00</td>\n",
              "      <td>2416.00</td>\n",
              "      <td>2384.65</td>\n",
              "      <td>2404.15</td>\n",
              "    </tr>\n",
              "    <tr>\n",
              "      <th>1482</th>\n",
              "      <td>2021-09-22</td>\n",
              "      <td>2409.00</td>\n",
              "      <td>2441.25</td>\n",
              "      <td>2398.15</td>\n",
              "      <td>2430.60</td>\n",
              "    </tr>\n",
              "  </tbody>\n",
              "</table>\n",
              "<p>1483 rows × 5 columns</p>\n",
              "</div>"
            ],
            "text/plain": [
              "           Date  Open Price  High Price  Low Price  Close Price\n",
              "0    2015-09-23      840.00      856.75     840.00       851.40\n",
              "1    2015-09-24      848.00      848.00     835.05       837.90\n",
              "2    2015-09-28      837.90      840.90     830.00       834.35\n",
              "3    2015-09-29      829.00      849.30     826.55       839.15\n",
              "4    2015-09-30      848.05      863.00     838.60       860.50\n",
              "...         ...         ...         ...        ...          ...\n",
              "1478 2021-09-16     2379.00     2436.00    2367.00      2428.10\n",
              "1479 2021-09-17     2445.00     2455.80    2378.80      2390.40\n",
              "1480 2021-09-20     2375.00     2418.00    2370.00      2393.90\n",
              "1481 2021-09-21     2411.00     2416.00    2384.65      2404.15\n",
              "1482 2021-09-22     2409.00     2441.25    2398.15      2430.60\n",
              "\n",
              "[1483 rows x 5 columns]"
            ]
          },
          "metadata": {},
          "execution_count": 13
        }
      ]
    },
    {
      "cell_type": "code",
      "metadata": {
        "id": "dwq_9iuH_OOu"
      },
      "source": [
        "df.to_csv('6 years RIL data Cleaned.csv')"
      ],
      "execution_count": null,
      "outputs": []
    },
    {
      "cell_type": "code",
      "metadata": {
        "colab": {
          "base_uri": "https://localhost:8080/",
          "height": 295
        },
        "id": "7LmTVg9W_OLu",
        "outputId": "12fa9848-0223-40b9-a2d1-436ddbf96002"
      },
      "source": [
        "plt.plot(df.Date, df['Open Price'], color='b', label= 'Open')\n",
        "plt.plot(df.Date, df['High Price'], color='g', label= 'High')\n",
        "plt.plot(df.Date, df['Low Price'], color='r', label= 'Low')\n",
        "plt.plot(df.Date, df['Close Price'], color='k', label= 'Close')\n",
        "\n",
        "plt.xlabel(\"Date\")\n",
        "plt.ylabel(\"Price\")\n",
        "plt.title(\"OHLC Chart\")\n",
        "\n",
        "plt.legend()\n",
        "\n",
        "plt.show()"
      ],
      "execution_count": null,
      "outputs": [
        {
          "output_type": "display_data",
          "data": {
            "image/png": "[encoded data removed]",
            "text/plain": [
              "<Figure size 432x288 with 1 Axes>"
            ]
          },
          "metadata": {
            "needs_background": "light"
          }
        }
      ]
    },
    {
      "cell_type": "code",
      "metadata": {
        "id": "aj2619cF_OJO"
      },
      "source": [
        "dfC = df.reset_index()['Close Price']"
      ],
      "execution_count": null,
      "outputs": []
    },
    {
      "cell_type": "code",
      "metadata": {
        "id": "SwRxIb5Hb4MF"
      },
      "source": [
        "dfC=pd.DataFrame(dfC).to_numpy()"
      ],
      "execution_count": null,
      "outputs": []
    },
    {
      "cell_type": "code",
      "metadata": {
        "id": "MC9lu0kZb4Jr"
      },
      "source": [
        "from sklearn.preprocessing import MinMaxScaler\n",
        "scaler = MinMaxScaler(feature_range=(0,1))\n",
        "dfC = scaler.fit_transform(np.array(dfC).reshape(-1,1))\n"
      ],
      "execution_count": null,
      "outputs": []
    },
    {
      "cell_type": "markdown",
      "metadata": {
        "id": "GZo0fefGd3Z2"
      },
      "source": [
        "A way to normalize the input features/variables is the Min-Max scaler. By doing so, all features will be transformed into the range [0,1] meaning that the minimum and maximum value of a feature/variable is going to be 0 and 1, respectively."
      ]
    },
    {
      "cell_type": "markdown",
      "metadata": {
        "id": "-_PBNUj7dNXM"
      },
      "source": [
        "The main idea behind normalization/standardization is always the same. Variables that are measured at different scales do not contribute equally to the model fitting & model learned function and might end up creating a bias. Thus, to deal with this potential problem feature-wise normalization such as MinMax Scaling is usually used prior to model fitting."
      ]
    },
    {
      "cell_type": "code",
      "metadata": {
        "colab": {
          "base_uri": "https://localhost:8080/"
        },
        "id": "D695PK69b4Ha",
        "outputId": "3a00bb5d-b450-413d-b5d8-ae3a099f11f6"
      },
      "source": [
        "dfC"
      ],
      "execution_count": null,
      "outputs": [
        {
          "output_type": "execute_result",
          "data": {
            "text/plain": [
              "array([[ 851.4 ],\n",
              "       [ 837.9 ],\n",
              "       [ 834.35],\n",
              "       ...,\n",
              "       [2393.9 ],\n",
              "       [2404.15],\n",
              "       [2430.6 ]])"
            ]
          },
          "metadata": {},
          "execution_count": 93
        }
      ]
    },
    {
      "cell_type": "code",
      "metadata": {
        "colab": {
          "base_uri": "https://localhost:8080/",
          "height": 283
        },
        "id": "et8YYVBKGL4D",
        "outputId": "9a150c1f-3d34-4874-e912-f3fc40d3794a"
      },
      "source": [
        "plt.plot(dfC)"
      ],
      "execution_count": null,
      "outputs": [
        {
          "output_type": "execute_result",
          "data": {
            "text/plain": [
              "[<matplotlib.lines.Line2D at 0x7f4905b709d0>]"
            ]
          },
          "metadata": {},
          "execution_count": 94
        },
        {
          "output_type": "display_data",
          "data": {
            "image/png": "[encoded data removed]",
            "text/plain": [
              "<Figure size 432x288 with 1 Axes>"
            ]
          },
          "metadata": {
            "needs_background": "light"
          }
        }
      ]
    },
    {
      "cell_type": "markdown",
      "metadata": {
        "id": "LbFPFHJfeDWf"
      },
      "source": [
        "Train : test == 65:35"
      ]
    },
    {
      "cell_type": "code",
      "metadata": {
        "id": "SkKko9x1b4FG"
      },
      "source": [
        "train_size = int(len(dfC)*0.65)\n",
        "test_size = len(dfC) - train_size\n",
        "train_df, test_df = dfC[0:train_size, :], dfC[train_size : len(dfC), : 1]"
      ],
      "execution_count": null,
      "outputs": []
    },
    {
      "cell_type": "markdown",
      "metadata": {
        "id": "QY8fHpOWGj4b"
      },
      "source": [
        "Taking 60 days into account and predicting the 61st day price"
      ]
    },
    {
      "cell_type": "code",
      "metadata": {
        "id": "WRTLGpgZb4Ci"
      },
      "source": [
        "def create_dataset(dataset, timestamp=1):\n",
        "    dataX, datay = [], []\n",
        "    for i in range(len(dataset)-timestamp-1):\n",
        "        a = dataset[i:(i+timestamp),0]\n",
        "        dataX.append(a)\n",
        "        datay.append(dataset[i+timestamp, 0])\n",
        "    return np.array(dataX), np.array(datay)"
      ],
      "execution_count": null,
      "outputs": []
    },
    {
      "cell_type": "code",
      "metadata": {
        "id": "zcyZ-q0nGiVj"
      },
      "source": [
        "timestamp = 60\n",
        "X_train, y_train = create_dataset(train_df, timestamp)\n",
        "X_test, y_test = create_dataset(test_df, timestamp)"
      ],
      "execution_count": null,
      "outputs": []
    },
    {
      "cell_type": "code",
      "metadata": {
        "id": "409iYrfib4AI",
        "colab": {
          "base_uri": "https://localhost:8080/"
        },
        "outputId": "052efbaf-4bcb-4959-a684-5c9745dcb730"
      },
      "source": [
        "print(X_train.shape, y_train.shape)\n",
        "\n",
        "print(X_test.shape, y_test.shape)"
      ],
      "execution_count": null,
      "outputs": [
        {
          "output_type": "stream",
          "name": "stdout",
          "text": [
            "(902, 60) (902,)\n",
            "(459, 60) (459,)\n"
          ]
        }
      ]
    },
    {
      "cell_type": "markdown",
      "metadata": {
        "id": "n9IocQMrG7Hz"
      },
      "source": [
        "Reshape the Train dataset"
      ]
    },
    {
      "cell_type": "code",
      "metadata": {
        "id": "b5CK5wC0Ebz8"
      },
      "source": [
        ""
      ],
      "execution_count": null,
      "outputs": []
    },
    {
      "cell_type": "markdown",
      "metadata": {
        "id": "F_fYe6jRHC_b"
      },
      "source": [
        "It's Algo Time\n",
        "CATBoost\n"
      ]
    },
    {
      "cell_type": "code",
      "metadata": {
        "colab": {
          "base_uri": "https://localhost:8080/"
        },
        "id": "38UL_Bia3yNb",
        "outputId": "1614ff3b-59bf-4e0f-d129-12f11a65f258"
      },
      "source": [
        "!pip install catboost"
      ],
      "execution_count": null,
      "outputs": [
        {
          "output_type": "stream",
          "name": "stdout",
          "text": [
            "Collecting catboost\n",
            "  Downloading catboost-0.26.1-cp37-none-manylinux1_x86_64.whl (67.4 MB)\n",
            "\u001b[K     |████████████████████████████████| 67.4 MB 29 kB/s \n",
            "\u001b[?25hRequirement already satisfied: graphviz in /usr/local/lib/python3.7/dist-packages (from catboost) (0.10.1)\n",
            "Requirement already satisfied: six in /usr/local/lib/python3.7/dist-packages (from catboost) (1.15.0)\n",
            "Requirement already satisfied: plotly in /usr/local/lib/python3.7/dist-packages (from catboost) (4.4.1)\n",
            "Requirement already satisfied: scipy in /usr/local/lib/python3.7/dist-packages (from catboost) (1.4.1)\n",
            "Requirement already satisfied: matplotlib in /usr/local/lib/python3.7/dist-packages (from catboost) (3.2.2)\n",
            "Requirement already satisfied: numpy>=1.16.0 in /usr/local/lib/python3.7/dist-packages (from catboost) (1.19.5)\n",
            "Requirement already satisfied: pandas>=0.24.0 in /usr/local/lib/python3.7/dist-packages (from catboost) (1.1.5)\n",
            "Requirement already satisfied: python-dateutil>=2.7.3 in /usr/local/lib/python3.7/dist-packages (from pandas>=0.24.0->catboost) (2.8.2)\n",
            "Requirement already satisfied: pytz>=2017.2 in /usr/local/lib/python3.7/dist-packages (from pandas>=0.24.0->catboost) (2018.9)\n",
            "Requirement already satisfied: pyparsing!=2.0.4,!=2.1.2,!=2.1.6,>=2.0.1 in /usr/local/lib/python3.7/dist-packages (from matplotlib->catboost) (2.4.7)\n",
            "Requirement already satisfied: kiwisolver>=1.0.1 in /usr/local/lib/python3.7/dist-packages (from matplotlib->catboost) (1.3.2)\n",
            "Requirement already satisfied: cycler>=0.10 in /usr/local/lib/python3.7/dist-packages (from matplotlib->catboost) (0.10.0)\n",
            "Requirement already satisfied: retrying>=1.3.3 in /usr/local/lib/python3.7/dist-packages (from plotly->catboost) (1.3.3)\n",
            "Installing collected packages: catboost\n",
            "Successfully installed catboost-0.26.1\n"
          ]
        }
      ]
    },
    {
      "cell_type": "code",
      "metadata": {
        "id": "Q4dgdhhW3yP2"
      },
      "source": [
        "from catboost import CatBoostRegressor"
      ],
      "execution_count": null,
      "outputs": []
    },
    {
      "cell_type": "code",
      "metadata": {
        "id": "OOdVDxjy3ySj"
      },
      "source": [
        "model=CatBoostRegressor(iterations=1000,learning_rate=0.05,loss_function='RMSE', logging_level='Silent')"
      ],
      "execution_count": null,
      "outputs": []
    },
    {
      "cell_type": "code",
      "metadata": {
        "colab": {
          "base_uri": "https://localhost:8080/"
        },
        "id": "7XqsFIkh3yVE",
        "outputId": "bc4835c8-bfaf-4f06-ed94-17e13c98caac"
      },
      "source": [
        "model.fit(X_train,y_train)"
      ],
      "execution_count": null,
      "outputs": [
        {
          "output_type": "execute_result",
          "data": {
            "text/plain": [
              "<catboost.core.CatBoostRegressor at 0x7f4905972dd0>"
            ]
          },
          "metadata": {},
          "execution_count": 101
        }
      ]
    },
    {
      "cell_type": "code",
      "metadata": {
        "id": "6RlIo4CV3yXq"
      },
      "source": [
        "import math\n",
        "from sklearn.metrics import mean_squared_error"
      ],
      "execution_count": null,
      "outputs": []
    },
    {
      "cell_type": "code",
      "metadata": {
        "id": "JIl8Uhvuqdla"
      },
      "source": [
        "train_pred = model.predict(X_train)\n",
        "test_pred = model.predict(X_test)"
      ],
      "execution_count": null,
      "outputs": []
    },
    {
      "cell_type": "code",
      "metadata": {
        "id": "fRUubE9tC_m5"
      },
      "source": [
        ""
      ],
      "execution_count": null,
      "outputs": []
    },
    {
      "cell_type": "code",
      "metadata": {
        "id": "lqRSAOVOC_pT"
      },
      "source": [
        ""
      ],
      "execution_count": null,
      "outputs": []
    },
    {
      "cell_type": "code",
      "metadata": {
        "colab": {
          "base_uri": "https://localhost:8080/"
        },
        "id": "LzHUhGo4qdrU",
        "outputId": "b92872b1-265e-40c5-c772-b5ee1c42fb1a"
      },
      "source": [
        "math.sqrt(mean_squared_error(y_train, train_pred))"
      ],
      "execution_count": null,
      "outputs": [
        {
          "output_type": "execute_result",
          "data": {
            "text/plain": [
              "4.352005147830401"
            ]
          },
          "metadata": {},
          "execution_count": 104
        }
      ]
    },
    {
      "cell_type": "code",
      "metadata": {
        "colab": {
          "base_uri": "https://localhost:8080/"
        },
        "id": "2t9itZtxqdtw",
        "outputId": "db985802-6344-4a5b-cf41-e82affd9ea7b"
      },
      "source": [
        "math.sqrt(mean_squared_error(y_test, test_pred))"
      ],
      "execution_count": null,
      "outputs": [
        {
          "output_type": "execute_result",
          "data": {
            "text/plain": [
              "899.8609765400919"
            ]
          },
          "metadata": {},
          "execution_count": 105
        }
      ]
    },
    {
      "cell_type": "code",
      "metadata": {
        "id": "8KhSeFWc3yad"
      },
      "source": [
        "from sklearn.ensemble import AdaBoostRegressor"
      ],
      "execution_count": null,
      "outputs": []
    },
    {
      "cell_type": "code",
      "metadata": {
        "id": "VkGLiZo43ydB"
      },
      "source": [
        "model_AB=AdaBoostRegressor()"
      ],
      "execution_count": null,
      "outputs": []
    },
    {
      "cell_type": "code",
      "metadata": {
        "colab": {
          "base_uri": "https://localhost:8080/"
        },
        "id": "2PSEbU0M3yf0",
        "outputId": "f2baa226-eb7e-41cd-9b2b-4d191bec8e7c"
      },
      "source": [
        "model_AB.fit(X_train,y_train)"
      ],
      "execution_count": null,
      "outputs": [
        {
          "output_type": "execute_result",
          "data": {
            "text/plain": [
              "AdaBoostRegressor(base_estimator=None, learning_rate=1.0, loss='linear',\n",
              "                  n_estimators=50, random_state=None)"
            ]
          },
          "metadata": {},
          "execution_count": 108
        }
      ]
    },
    {
      "cell_type": "code",
      "metadata": {
        "id": "eLVQMQQY3yi1"
      },
      "source": [
        "train_pred = model_AB.predict(X_train)\n",
        "test_pred = model_AB.predict(X_test)"
      ],
      "execution_count": null,
      "outputs": []
    },
    {
      "cell_type": "code",
      "metadata": {
        "colab": {
          "base_uri": "https://localhost:8080/"
        },
        "id": "jhNbpnWt3yla",
        "outputId": "9dfc9fa5-a5c6-43ef-d7c8-a5eeab08e999"
      },
      "source": [
        "math.sqrt(mean_squared_error(y_train, train_pred))"
      ],
      "execution_count": null,
      "outputs": [
        {
          "output_type": "execute_result",
          "data": {
            "text/plain": [
              "20.815772794014077"
            ]
          },
          "metadata": {},
          "execution_count": 110
        }
      ]
    },
    {
      "cell_type": "code",
      "metadata": {
        "colab": {
          "base_uri": "https://localhost:8080/"
        },
        "id": "_TJZZruY3yn-",
        "outputId": "48c8b133-ee39-4dfb-f88d-dc19d6295e42"
      },
      "source": [
        "math.sqrt(mean_squared_error(y_test, test_pred))"
      ],
      "execution_count": null,
      "outputs": [
        {
          "output_type": "execute_result",
          "data": {
            "text/plain": [
              "1011.763719936654"
            ]
          },
          "metadata": {},
          "execution_count": 111
        }
      ]
    },
    {
      "cell_type": "code",
      "metadata": {
        "colab": {
          "base_uri": "https://localhost:8080/"
        },
        "id": "mA4N0JVM3ytO",
        "outputId": "a0b3e91c-8ec8-4b92-81c0-58846f583a88"
      },
      "source": [
        "!pip install xgboost"
      ],
      "execution_count": null,
      "outputs": [
        {
          "output_type": "stream",
          "name": "stdout",
          "text": [
            "Requirement already satisfied: xgboost in /usr/local/lib/python3.7/dist-packages (0.90)\n",
            "Requirement already satisfied: numpy in /usr/local/lib/python3.7/dist-packages (from xgboost) (1.19.5)\n",
            "Requirement already satisfied: scipy in /usr/local/lib/python3.7/dist-packages (from xgboost) (1.4.1)\n"
          ]
        }
      ]
    },
    {
      "cell_type": "code",
      "metadata": {
        "id": "eG1yNa6s3ywH"
      },
      "source": [
        "from xgboost import XGBRegressor"
      ],
      "execution_count": null,
      "outputs": []
    },
    {
      "cell_type": "code",
      "metadata": {
        "colab": {
          "base_uri": "https://localhost:8080/"
        },
        "id": "Bz30J2AA3yyp",
        "outputId": "55e8b8e2-f788-4699-f679-9973dcac2faa"
      },
      "source": [
        "model_XG=XGBRegressor()\n",
        "model_XG.fit(X_train,y_train)"
      ],
      "execution_count": null,
      "outputs": [
        {
          "output_type": "stream",
          "name": "stdout",
          "text": [
            "[17:55:34] WARNING: /workspace/src/objective/regression_obj.cu:152: reg:linear is now deprecated in favor of reg:squarederror.\n"
          ]
        },
        {
          "output_type": "execute_result",
          "data": {
            "text/plain": [
              "XGBRegressor(base_score=0.5, booster='gbtree', colsample_bylevel=1,\n",
              "             colsample_bynode=1, colsample_bytree=1, gamma=0,\n",
              "             importance_type='gain', learning_rate=0.1, max_delta_step=0,\n",
              "             max_depth=3, min_child_weight=1, missing=None, n_estimators=100,\n",
              "             n_jobs=1, nthread=None, objective='reg:linear', random_state=0,\n",
              "             reg_alpha=0, reg_lambda=1, scale_pos_weight=1, seed=None,\n",
              "             silent=None, subsample=1, verbosity=1)"
            ]
          },
          "metadata": {},
          "execution_count": 114
        }
      ]
    },
    {
      "cell_type": "code",
      "metadata": {
        "id": "omKICaPb3y1b"
      },
      "source": [
        "train_pred = model_XG.predict(X_train)\n",
        "test_pred = model_XG.predict(X_test)"
      ],
      "execution_count": null,
      "outputs": []
    },
    {
      "cell_type": "code",
      "metadata": {
        "colab": {
          "base_uri": "https://localhost:8080/"
        },
        "id": "jhAtgDOwEM6d",
        "outputId": "53a46697-d65a-4853-96bf-ce01f2e2f22b"
      },
      "source": [
        "train_pred.shape"
      ],
      "execution_count": null,
      "outputs": [
        {
          "output_type": "execute_result",
          "data": {
            "text/plain": [
              "(902,)"
            ]
          },
          "metadata": {},
          "execution_count": 116
        }
      ]
    },
    {
      "cell_type": "code",
      "metadata": {
        "id": "Edp0T7neEM-X"
      },
      "source": [
        ""
      ],
      "execution_count": null,
      "outputs": []
    },
    {
      "cell_type": "code",
      "metadata": {
        "colab": {
          "base_uri": "https://localhost:8080/",
          "height": 1000
        },
        "id": "jM_BwIGzDfwo",
        "outputId": "5813aac9-1b28-45e1-df20-5f0ba20b0a26"
      },
      "source": [
        "train_pred = scaler.inverse_transform(train_pred)\n",
        "test_pred = scaler.inverse_transform(test_pred)"
      ],
      "execution_count": null,
      "outputs": [
        {
          "output_type": "error",
          "ename": "ValueError",
          "evalue": "ignored",
          "traceback": [
            "\u001b[0;31m---------------------------------------------------------------------------\u001b[0m",
            "\u001b[0;31mValueError\u001b[0m                                Traceback (most recent call last)",
            "\u001b[0;32m<ipython-input-77-e8bc40e53295>\u001b[0m in \u001b[0;36m<module>\u001b[0;34m()\u001b[0m\n\u001b[0;32m----> 1\u001b[0;31m \u001b[0mtrain_pred\u001b[0m \u001b[0;34m=\u001b[0m \u001b[0mscaler\u001b[0m\u001b[0;34m.\u001b[0m\u001b[0minverse_transform\u001b[0m\u001b[0;34m(\u001b[0m\u001b[0mtrain_pred\u001b[0m\u001b[0;34m)\u001b[0m\u001b[0;34m\u001b[0m\u001b[0;34m\u001b[0m\u001b[0m\n\u001b[0m\u001b[1;32m      2\u001b[0m \u001b[0mtest_pred\u001b[0m \u001b[0;34m=\u001b[0m \u001b[0mscaler\u001b[0m\u001b[0;34m.\u001b[0m\u001b[0minverse_transform\u001b[0m\u001b[0;34m(\u001b[0m\u001b[0mtest_pred\u001b[0m\u001b[0;34m)\u001b[0m\u001b[0;34m\u001b[0m\u001b[0;34m\u001b[0m\u001b[0m\n",
            "\u001b[0;32m/usr/local/lib/python3.7/dist-packages/sklearn/preprocessing/_data.py\u001b[0m in \u001b[0;36minverse_transform\u001b[0;34m(self, X)\u001b[0m\n\u001b[1;32m    432\u001b[0m \u001b[0;34m\u001b[0m\u001b[0m\n\u001b[1;32m    433\u001b[0m         X = check_array(X, copy=self.copy, dtype=FLOAT_DTYPES,\n\u001b[0;32m--> 434\u001b[0;31m                         force_all_finite=\"allow-nan\")\n\u001b[0m\u001b[1;32m    435\u001b[0m \u001b[0;34m\u001b[0m\u001b[0m\n\u001b[1;32m    436\u001b[0m         \u001b[0mX\u001b[0m \u001b[0;34m-=\u001b[0m \u001b[0mself\u001b[0m\u001b[0;34m.\u001b[0m\u001b[0mmin_\u001b[0m\u001b[0;34m\u001b[0m\u001b[0;34m\u001b[0m\u001b[0m\n",
            "\u001b[0;32m/usr/local/lib/python3.7/dist-packages/sklearn/utils/validation.py\u001b[0m in \u001b[0;36mcheck_array\u001b[0;34m(array, accept_sparse, accept_large_sparse, dtype, order, copy, force_all_finite, ensure_2d, allow_nd, ensure_min_samples, ensure_min_features, warn_on_dtype, estimator)\u001b[0m\n\u001b[1;32m    554\u001b[0m                     \u001b[0;34m\"Reshape your data either using array.reshape(-1, 1) if \"\u001b[0m\u001b[0;34m\u001b[0m\u001b[0;34m\u001b[0m\u001b[0m\n\u001b[1;32m    555\u001b[0m                     \u001b[0;34m\"your data has a single feature or array.reshape(1, -1) \"\u001b[0m\u001b[0;34m\u001b[0m\u001b[0;34m\u001b[0m\u001b[0m\n\u001b[0;32m--> 556\u001b[0;31m                     \"if it contains a single sample.\".format(array))\n\u001b[0m\u001b[1;32m    557\u001b[0m \u001b[0;34m\u001b[0m\u001b[0m\n\u001b[1;32m    558\u001b[0m         \u001b[0;31m# in the future np.flexible dtypes will be handled like object dtypes\u001b[0m\u001b[0;34m\u001b[0m\u001b[0;34m\u001b[0m\u001b[0;34m\u001b[0m\u001b[0m\n",
            "\u001b[0;31mValueError\u001b[0m: Expected 2D array, got 1D array instead:\narray=[0.12966794 0.13279229 0.13592835 0.13919731 0.13555354 0.13953453\n 0.13970744 0.13056743 0.13441786 0.14824261 0.14037333 0.14632573\n 0.15942172 0.15948308 0.17319045 0.1693314  0.17277341 0.14853686\n 0.15553847 0.13547035 0.12327897 0.13181935 0.13469595 0.13209462\n 0.1417338  0.15229628 0.14874479 0.13489541 0.120721   0.11525951\n 0.11518922 0.1096669  0.10440332 0.10665804 0.08760262 0.07574239\n 0.09314971 0.09221168 0.10060934 0.09683727 0.09902383 0.10586019\n 0.10322787 0.10236876 0.09887167 0.10272965 0.10904223 0.11968804\n 0.13113124 0.13863123 0.13901888 0.14560715 0.15417362 0.14336261\n 0.14008945 0.14213518 0.14382543 0.14432772 0.14132652 0.14502969\n 0.15189634 0.15922852 0.15175226 0.14501398 0.15035619 0.15658021\n 0.1587327  0.15426684 0.15184098 0.14923175 0.150413   0.15431766\n 0.15501727 0.15637016 0.1591257  0.16791807 0.16789327 0.156691\n 0.15599339 0.15423973 0.14323063 0.14036647 0.14151667 0.13162705\n 0.12190409 0.12152536 0.11745419 0.11898851 0.11638946 0.11310884\n 0.11676998 0.12062008 0.1176196  0.1230745  0.12046559 0.11644274\n 0.11231185 0.11125994 0.10303577 0.0934625  0.08947635 0.09547691\n 0.09967917 0.10089139 0.11082138 0.11289012 0.10763869 0.10354693\n 0.10399975 0.10508396 0.10474344 0.10451082 0.10501512 0.11164665\n 0.1163161  0.11848653 0.11674979 0.11873045 0.11891804 0.11492744\n 0.12162141 0.12303497 0.1209515  0.11761179 0.10856574 0.10397943\n 0.1063986  0.11011776 0.11324359 0.11435279 0.12282499 0.12703437\n 0.12469493 0.12128645 0.12388678 0.13192817 0.13628932 0.13802741\n 0.13904697 0.13543045 0.13938832 0.14436333 0.13691891 0.13990192\n 0.14364536 0.14442136 0.14020854 0.14506423 0.1413265  0.1375841\n 0.13811271 0.12985155 0.12691839 0.13865699 0.14873811 0.14858094\n 0.13565334 0.13921021 0.1512422  0.14642637 0.14036268 0.14093554\n 0.14108898 0.13944002 0.13909402 0.14300552 0.13937378 0.14842916\n 0.16348342 0.16987614 0.16682572 0.15184827 0.14009111 0.14297684\n 0.14274125 0.15095603 0.15718499 0.1585322  0.16021727 0.16817809\n 0.17467192 0.18115123 0.1770118  0.17631887 0.18322089 0.19176676\n 0.19606884 0.1983353  0.18578095 0.17610232 0.18031953 0.18692922\n 0.18764952 0.18600117 0.19712669 0.19760432 0.1871584  0.16998539\n 0.17651655 0.16996105 0.1787859  0.18211099 0.18368601 0.17124656\n 0.16952771 0.1667797  0.16295113 0.16135913 0.16356308 0.16203256\n 0.15894497 0.15035325 0.14429776 0.13818383 0.13513145 0.13391963\n 0.1337769  0.13539262 0.13329993 0.12665096 0.12513269 0.12340232\n 0.12477568 0.1259291  0.12934402 0.13501651 0.12904601 0.1266093\n 0.12299413 0.1283945  0.12822079 0.13056888 0.13034444 0.12936241\n 0.13247873 0.1333611  0.13995451 0.14872126 0.15053521 0.15413858\n 0.16505864 0.16566295 0.16595888 0.1676904  0.16698897 0.16771701\n 0.16509271 0.1666492  0.16242504 0.16797223 0.16616077 0.17016764\n 0.17513672 0.1809657  0.1838887  0.17793473 0.17657647 0.17521421\n 0.17804442 0.1817729  0.18220156 0.18164227 0.18326846 0.17726009\n 0.16074139 0.1514017  0.150099   0.14625206 0.14304589 0.14621122\n 0.14325315 0.14707737 0.15457858 0.15878007 0.15965974 0.15928232\n 0.15415444 0.15267914 0.15142081 0.14662635 0.14924088 0.15059804\n 0.1490855  0.15938022 0.16468378 0.16921276 0.17533015 0.17867947\n 0.18575787 0.227081   0.24556926 0.27076156 0.27622754 0.27237839\n 0.27443798 0.28616716 0.30835961 0.31604511 0.3103461  0.30342032\n 0.30161313 0.30435762 0.31269845 0.31512806 0.30885987 0.30061092\n 0.29077601 0.2897775  0.29561442 0.30045656 0.28824212 0.28196558\n 0.28271087 0.29332987 0.32079225 0.354904   0.37806577 0.39287308\n 0.38004205 0.36181355 0.3537881  0.34798681 0.35061575 0.36555279\n 0.35398976 0.35392334 0.35603647 0.37165204 0.38064684 0.39221018\n 0.38356566 0.37886988 0.36877462 0.35350886 0.35326019 0.348105\n 0.33105159 0.32628786 0.32964072 0.34666613 0.34511009 0.34287301\n 0.34095708 0.34394749 0.34421061 0.32913435 0.32466505 0.325319\n 0.31560177 0.31227583 0.31352064 0.3319722  0.34678789 0.34567024\n 0.33876423 0.32983783 0.3277091  0.32911868 0.32533429 0.33348017\n 0.3312271  0.33093155 0.32444895 0.32010155 0.34437163 0.36135437\n 0.36514989 0.37425335 0.38147534 0.38247488 0.39270191 0.39154856\n 0.39452223 0.37341895 0.3631201  0.3619819  0.36372782 0.38107475\n 0.39799654 0.40151618 0.42229252 0.43018246 0.43183005 0.44083003\n 0.44565259 0.4520561  0.45928781 0.44925684 0.45194005 0.45486146\n 0.48404392 0.49667114 0.49138773 0.50850594 0.48943801 0.49540943\n 0.47970783 0.49567248 0.50958557 0.51298573 0.50460544 0.49782265\n 0.49310909 0.48476241 0.48433737 0.47751939 0.46452426 0.46505452\n 0.4652143  0.46215778 0.47157825 0.4725701  0.47047303 0.48059097\n 0.47241527 0.47119632 0.46336141 0.47755569 0.48686002 0.47685988\n 0.49718994 0.49514716 0.2854669  0.00690959 0.00712681 0.01864338\n 0.03061224 0.0375089  0.03611812 0.03487543 0.02760492 0.02567558\n 0.02888001 0.02052338 0.02011014 0.0159541  0.00722233 0.00739411\n 0.00395845 0.00693666 0.01610228 0.02142289 0.03367859 0.03077202\n 0.03563144 0.03773468 0.05343261 0.06044456 0.05914995 0.04959439\n 0.06528098 0.07718072 0.07997289 0.08953645 0.09857989 0.09634888\n 0.0953177  0.09443813 0.09794998 0.10010177 0.09872112 0.09718621\n 0.09038882 0.07788008 0.06585312 0.06629413 0.06122754 0.05926278\n 0.06295922 0.06378203 0.07169922 0.07559642 0.08261602 0.09035308\n 0.09221276 0.09663496 0.0989718  0.10025358 0.0993498  0.0953593\n 0.08744721 0.07758111 0.07570457 0.07706361 0.08528255 0.08715205\n 0.08586363 0.08001937 0.08057534 0.08088166 0.08247084 0.08294739\n 0.08211924 0.08495492 0.08268697 0.08249056 0.08199292 0.08478054\n 0.08726837 0.0847874  0.0831115  0.07937266 0.07659757 0.08030853\n 0.0840325  0.08529279 0.08594193 0.09252269 0.09506129 0.09493805\n 0.0974655  0.09694092 0.08994753 0.08463629 0.08367375 0.08969704\n 0.10858031 0.11911327 0.11148812 0.11000836 0.10773915 0.10352146\n 0.10470981 0.09758697 0.0832574  0.0728048  0.06811372 0.06845217\n 0.07175906 0.07213565 0.07821395 0.08772153 0.09089106 0.08575107\n 0.08576163 0.08471636 0.08657652 0.08604118 0.0894619  0.09372133\n 0.09931557 0.1021977  0.09884485 0.08900034 0.07623011 0.07019491\n 0.07602417 0.08039188 0.08773248 0.09217885 0.08730549 0.07926321\n 0.074562   0.06731719 0.06698037 0.06852051 0.0719092  0.06991046\n 0.0713374  0.06868925 0.06413887 0.06614072 0.07209713 0.06831212\n 0.07340021 0.07781134 0.08267067 0.08256415 0.08640663 0.08860816\n 0.09261367 0.09599354 0.09702236 0.09450191 0.09571879 0.08819511\n 0.09149361 0.10928899 0.11471467 0.11759097 0.12496752 0.11461226\n 0.11006286 0.11045872 0.10375298 0.11104791 0.11462883 0.11507141\n 0.11967525 0.12033851 0.12105381 0.11978363 0.10748263 0.09859442\n 0.09083945 0.08961741 0.08809328 0.07961783 0.07906154 0.08384513\n 0.08307948 0.08295684 0.08255151 0.08556195 0.08797342 0.09389499\n 0.10043726 0.10293493 0.11207232 0.12146301 0.12180299 0.12753276\n 0.13341354 0.13570521 0.13937898 0.13950236 0.1327232  0.14140889\n 0.14772631 0.13703765 0.13265414 0.12167667 0.11063682 0.10085409\n 0.11070845 0.10891109 0.11392822 0.1242577  0.11206102 0.1172247\n 0.12774005 0.14551388 0.15448787 0.1740265  0.18781258 0.18194609\n 0.18299647 0.18720604 0.19393617 0.20447964 0.20792673 0.19864323\n 0.20010969 0.19901176 0.20795597 0.21941817 0.23806753 0.24857192\n 0.23751024 0.23854859 0.2455713  0.24179909 0.25805392 0.26185864\n 0.25608419 0.24705531 0.25710373 0.25464913 0.25670438 0.26293714\n 0.28064056 0.29415872 0.30078685 0.30505679 0.31684048 0.31410317\n 0.29536737 0.28021809 0.26805448 0.27676271 0.27045874 0.28629631\n 0.2959532  0.28756564 0.27701849 0.280783   0.28175571 0.27076841\n 0.26271565 0.25838052 0.26010749 0.26954038 0.27352684 0.28133318\n 0.28482264 0.28636437 0.27130973 0.25348856 0.21780779 0.1695036\n 0.19056347 0.18779218 0.19386559 0.18568301 0.2069407  0.21417663\n 0.22645364 0.22399404 0.1923116  0.17056976 0.16188279 0.15666432\n 0.15585404 0.15735544 0.18026326 0.17046242 0.1679478  0.16530063\n 0.17697196 0.18465091 0.19432954 0.1932606  0.1874223  0.18038732\n 0.18966463 0.19083328 0.19250445 0.2070598  0.22098445 0.2152665\n 0.20033014 0.19401769 0.19615439 0.20810733 0.22033859 0.22909397\n 0.2330874  0.22899991 0.22037909 0.22223471 0.21111897 0.20893756\n 0.18908802 0.18739269 0.19631088 0.19696859 0.1996385  0.20994489\n 0.21180315 0.21450649 0.20771826 0.19355086 0.18527268 0.19014888\n 0.201446   0.20701824 0.20510207 0.20482188 0.19429093 0.18798685\n 0.19089808 0.19531187 0.19452772 0.19630218 0.19661421 0.1904252\n 0.19020227 0.20558305 0.21330737 0.21549052 0.23680393 0.26971337\n 0.27296398 0.26899023 0.27703455 0.27819342 0.27098603 0.26015533\n 0.25051536 0.26712242 0.28298049 0.30370954 0.30781185 0.31269796\n 0.31083517 0.297783   0.28575244 0.28497567 0.27829174 0.26867155\n 0.27497198 0.26653313 0.26233114 0.27021038 0.27924547 0.27462869\n 0.27002546 0.26339754 0.26520368 0.27039051 0.26949382 0.27482447\n 0.28787103 0.29455879 0.2938458  0.31054808 0.32917764 0.3389632\n 0.33691115 0.32865925 0.33827283 0.35477537 0.35746278 0.34065962\n 0.32840447 0.34813311 0.34341365 0.34785059 0.35245521 0.36504371\n 0.36357313 0.35717347 0.34679034 0.34599065 0.33207971 0.33072588\n 0.33090479 0.33789329 0.34001293 0.33580628 0.33997475 0.36004036\n 0.34158345 0.34833852 0.36518295 0.35866373 0.36467542 0.36720606\n 0.3736891  0.37567838 0.3638776  0.33910027 0.31359177 0.28715051\n 0.28162915 0.2738655  0.28428152 0.28687472 0.29092482 0.29372297\n 0.32239334 0.33403941 0.33662027 0.33534243 0.33275552 0.32165226\n 0.3278123  0.32018455 0.32748212 0.33123511 0.34693761 0.34233582\n 0.33144421 0.31944436 0.32431187 0.32709513 0.33306964 0.3269132\n 0.3238002  0.30327541 0.30111064 0.29973131 0.308481   0.30359277\n 0.29270138 0.30364504 0.3087101  0.2962264  0.28920647 0.29157166\n 0.29896346 0.3013916  0.30114035 0.2919222  0.28588082 0.30116514\n 0.29950139 0.30192846 0.3004629  0.29794179 0.30392453 0.30072055\n 0.28768646 0.28285716 0.29756816 0.29692002 0.28762929 0.27278658\n 0.26029933 0.25833281 0.24141608 0.23325069 0.23832676 0.24212003\n 0.22379317 0.20812045 0.20284423 0.21412225 0.231199   0.27408279\n 0.30494761 0.29805669].\nReshape your data either using array.reshape(-1, 1) if your data has a single feature or array.reshape(1, -1) if it contains a single sample."
          ]
        }
      ]
    },
    {
      "cell_type": "code",
      "metadata": {
        "id": "53jQ-9kMDfy-"
      },
      "source": [
        ""
      ],
      "execution_count": null,
      "outputs": []
    },
    {
      "cell_type": "code",
      "metadata": {
        "id": "8ciUQWjaDf10"
      },
      "source": [
        ""
      ],
      "execution_count": null,
      "outputs": []
    },
    {
      "cell_type": "code",
      "metadata": {
        "id": "NujPyydzDf4T"
      },
      "source": [
        ""
      ],
      "execution_count": null,
      "outputs": []
    },
    {
      "cell_type": "code",
      "metadata": {
        "colab": {
          "base_uri": "https://localhost:8080/"
        },
        "id": "h1W7eA1H3y4S",
        "outputId": "c8e943f8-252b-43de-e6e9-8a8b8274868c"
      },
      "source": [
        "math.sqrt(mean_squared_error(y_train, train_pred))"
      ],
      "execution_count": null,
      "outputs": [
        {
          "output_type": "execute_result",
          "data": {
            "text/plain": [
              "11.855675670599092"
            ]
          },
          "metadata": {},
          "execution_count": 117
        }
      ]
    },
    {
      "cell_type": "code",
      "metadata": {
        "colab": {
          "base_uri": "https://localhost:8080/"
        },
        "id": "f2VJaHYx3y62",
        "outputId": "26f0e11b-b344-4f74-92f9-dbb2a96264f8"
      },
      "source": [
        "math.sqrt(mean_squared_error(y_test, test_pred))"
      ],
      "execution_count": null,
      "outputs": [
        {
          "output_type": "execute_result",
          "data": {
            "text/plain": [
              "970.838218011584"
            ]
          },
          "metadata": {},
          "execution_count": 118
        }
      ]
    },
    {
      "cell_type": "code",
      "metadata": {
        "colab": {
          "base_uri": "https://localhost:8080/"
        },
        "id": "WF6Hb2dg3zAy",
        "outputId": "2021e9da-d47b-47af-d2f3-3bc667964b45"
      },
      "source": [
        "!pip install lightgbm"
      ],
      "execution_count": null,
      "outputs": [
        {
          "output_type": "stream",
          "name": "stdout",
          "text": [
            "Requirement already satisfied: lightgbm in /usr/local/lib/python3.7/dist-packages (2.2.3)\n",
            "Requirement already satisfied: numpy in /usr/local/lib/python3.7/dist-packages (from lightgbm) (1.19.5)\n",
            "Requirement already satisfied: scikit-learn in /usr/local/lib/python3.7/dist-packages (from lightgbm) (0.22.2.post1)\n",
            "Requirement already satisfied: scipy in /usr/local/lib/python3.7/dist-packages (from lightgbm) (1.4.1)\n",
            "Requirement already satisfied: joblib>=0.11 in /usr/local/lib/python3.7/dist-packages (from scikit-learn->lightgbm) (1.0.1)\n"
          ]
        }
      ]
    },
    {
      "cell_type": "code",
      "metadata": {
        "id": "JlPmGMuKs5lc"
      },
      "source": [
        "from lightgbm import LGBMRegressor"
      ],
      "execution_count": null,
      "outputs": []
    },
    {
      "cell_type": "code",
      "metadata": {
        "id": "hASrySYls5oN"
      },
      "source": [
        "model_LGBM=LGBMRegressor()"
      ],
      "execution_count": null,
      "outputs": []
    },
    {
      "cell_type": "code",
      "metadata": {
        "colab": {
          "base_uri": "https://localhost:8080/"
        },
        "id": "P8bksvCKs5qw",
        "outputId": "96ab6da8-5101-4952-be1e-2fe63cdd4943"
      },
      "source": [
        "model_LGBM.fit(X_train,y_train)"
      ],
      "execution_count": null,
      "outputs": [
        {
          "output_type": "execute_result",
          "data": {
            "text/plain": [
              "LGBMRegressor(boosting_type='gbdt', class_weight=None, colsample_bytree=1.0,\n",
              "              importance_type='split', learning_rate=0.1, max_depth=-1,\n",
              "              min_child_samples=20, min_child_weight=0.001, min_split_gain=0.0,\n",
              "              n_estimators=100, n_jobs=-1, num_leaves=31, objective=None,\n",
              "              random_state=None, reg_alpha=0.0, reg_lambda=0.0, silent=True,\n",
              "              subsample=1.0, subsample_for_bin=200000, subsample_freq=0)"
            ]
          },
          "metadata": {},
          "execution_count": 121
        }
      ]
    },
    {
      "cell_type": "code",
      "metadata": {
        "id": "VjaPUwSPs5tn"
      },
      "source": [
        "train_pred = model_LGBM.predict(X_train)\n",
        "test_pred = model_LGBM.predict(X_test)"
      ],
      "execution_count": null,
      "outputs": []
    },
    {
      "cell_type": "code",
      "metadata": {
        "colab": {
          "base_uri": "https://localhost:8080/"
        },
        "id": "sMWky7gXs5wR",
        "outputId": "37637ff2-91c8-46e6-d0bb-a6f394f4b942"
      },
      "source": [
        "math.sqrt(mean_squared_error(y_train, train_pred))"
      ],
      "execution_count": null,
      "outputs": [
        {
          "output_type": "execute_result",
          "data": {
            "text/plain": [
              "15.6896559235953"
            ]
          },
          "metadata": {},
          "execution_count": 123
        }
      ]
    },
    {
      "cell_type": "code",
      "metadata": {
        "colab": {
          "base_uri": "https://localhost:8080/"
        },
        "id": "TxKY1MjBs5y9",
        "outputId": "114cf405-3cc7-4b98-cade-88e26f97bd4f"
      },
      "source": [
        "math.sqrt(mean_squared_error(y_test, test_pred))"
      ],
      "execution_count": null,
      "outputs": [
        {
          "output_type": "execute_result",
          "data": {
            "text/plain": [
              "521.6411437699795"
            ]
          },
          "metadata": {},
          "execution_count": 124
        }
      ]
    },
    {
      "cell_type": "code",
      "metadata": {
        "id": "sOJDGgY_s51Z"
      },
      "source": [
        ""
      ],
      "execution_count": null,
      "outputs": []
    }
  ]
}